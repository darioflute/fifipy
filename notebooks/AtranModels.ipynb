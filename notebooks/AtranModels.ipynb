{
 "cells": [
  {
   "cell_type": "markdown",
   "metadata": {},
   "source": [
    "# ATRAN models pre-computed for FIFI-LS"
   ]
  },
  {
   "cell_type": "code",
   "execution_count": 1,
   "metadata": {},
   "outputs": [
    {
     "name": "stdout",
     "output_type": "stream",
     "text": [
      "altitudes  [36000. 36500. 37000. 37500. 38000. 38500. 39000. 39500. 40000. 40500.\n",
      " 41000. 41500. 42000. 42500. 43000. 43500. 44000.]\n",
      "water vapor zenithal  [ 1.5         1.65104126  1.81729149  2.00028215  2.2016989   2.42339715\n",
      "  2.66741912  2.93601267  3.23165204  3.55706056  3.91523582  4.30947725\n",
      "  4.74341649  5.22105088  5.74678027  6.32544755  6.96238325  7.66345466\n",
      "  8.43511988  9.28448728 10.21938104 11.24841314 12.38106278 13.62776363\n",
      " 15.        ]\n"
     ]
    }
   ],
   "source": [
    "import numpy as np\n",
    "altitudes = 36000+np.arange(17)*500.\n",
    "#wvzs = 1.5 + np.arange(35)*0.25\n",
    "#wvzs = np.append(wvzs, 11.+np.arange(5))\n",
    "wvzs = 1.5 * (15/1.5)**(np.arange(25)/24.)\n",
    "print ('altitudes ', altitudes)\n",
    "print ('water vapor zenithal ', wvzs)\n",
    "\n"
   ]
  },
  {
   "cell_type": "code",
   "execution_count": 2,
   "metadata": {},
   "outputs": [
    {
     "name": "stdout",
     "output_type": "stream",
     "text": [
      "36000.0 15.0 (25, 21817)\n",
      "36500.0 15.0 (25, 21817)\n",
      "37000.0 15.0 (25, 21817)\n",
      "37500.0 15.0 (25, 21817)\n",
      "38000.0 15.0 (25, 21817)\n",
      "38500.0 15.0 (25, 21817)\n",
      "39000.0 15.0 (25, 21817)\n",
      "39500.0 15.0 (25, 21817)\n",
      "40000.0 15.0 (25, 21817)\n",
      "40500.0 15.0 (25, 21817)\n",
      "41000.0 15.0 (25, 21817)\n",
      "41500.0 15.0 (25, 21817)\n",
      "42000.0 15.0 (25, 21817)\n",
      "42500.0 15.0 (25, 21817)\n",
      "43000.0 15.0 (25, 21817)\n",
      "43500.0 15.0 (25, 21817)\n",
      "44000.0 15.0 (25, 21817)\n",
      "(17, 25, 21817)\n"
     ]
    }
   ],
   "source": [
    "from astropy.io import fits\n",
    "from fifipy.atran import getATransBlue1, addExtension\n",
    "\n",
    "atranblue = []\n",
    "for altitude in altitudes:\n",
    "    atranblue_wvz = []\n",
    "    #print( ' ')\n",
    "    #print(altitude, end = \" \")\n",
    "    for wvz in wvzs:\n",
    "        #print('.', end =\" \") \n",
    "        wt,t = getATransBlue1(altitude,0,wvz,interp=True)\n",
    "        #print(altitude, wvz, len(t))\n",
    "        waveblue = wt\n",
    "        atranblue_wvz.append(t)\n",
    "    print(altitude, wvz, np.shape(atranblue_wvz))\n",
    "    atranblue.append(atranblue_wvz) \n",
    "atranblue = np.array(atranblue)\n",
    "print(np.shape(atranblue))\n",
    "# Save data\n",
    "\n",
    "caldir = '/home/dario/Python/fifipy/fifipy/data/'\n",
    "hdu = fits.PrimaryHDU()\n",
    "hdu.header['CHANNEL']='Blue'\n",
    "hdu.header['ORDER']=1\n",
    "hdu1 = addExtension(waveblue,'WAVELENGTH','um',None)\n",
    "hdu2 = addExtension(atranblue,'ATRAN','',None)\n",
    "hdu3 = addExtension(altitudes, 'ALTITUDE','ft', None)\n",
    "hdu4 = addExtension(wvzs, 'WVZ','um','Water vapor zenithal')\n",
    "hdulist = fits.HDUList([hdu, hdu1, hdu2, hdu3, hdu4])\n",
    "hdulist.writeto(caldir+'AtranBlue1.fits',overwrite=True)\n",
    "hdulist.close()"
   ]
  },
  {
   "cell_type": "code",
   "execution_count": 3,
   "metadata": {},
   "outputs": [
    {
     "name": "stdout",
     "output_type": "stream",
     "text": [
      "36000.0 15.0 (25, 26971)\n",
      "36500.0 15.0 (25, 26971)\n",
      "37000.0 15.0 (25, 26971)\n",
      "37500.0 15.0 (25, 26971)\n",
      "38000.0 15.0 (25, 26971)\n",
      "38500.0 15.0 (25, 26971)\n",
      "39000.0 15.0 (25, 26971)\n",
      "39500.0 15.0 (25, 26971)\n",
      "40000.0 15.0 (25, 26971)\n",
      "40500.0 15.0 (25, 26971)\n",
      "41000.0 15.0 (25, 26971)\n",
      "41500.0 15.0 (25, 26971)\n",
      "42000.0 15.0 (25, 26971)\n",
      "42500.0 15.0 (25, 26971)\n",
      "43000.0 15.0 (25, 26971)\n",
      "43500.0 15.0 (25, 26971)\n",
      "44000.0 15.0 (25, 26971)\n"
     ]
    }
   ],
   "source": [
    "from astropy.io import fits\n",
    "from fifipy.atran import getATransBlue2, addExtension\n",
    "\n",
    "atranblue = []\n",
    "for altitude in altitudes:\n",
    "    atranblue_wvz = []\n",
    "    #print( ' ')\n",
    "    #print(altitude, end = \" \")\n",
    "    for wvz in wvzs:\n",
    "        #print('.', end =\" \") \n",
    "        wt,t = getATransBlue2(altitude,0,wvz,interp=True)\n",
    "        waveblue = wt\n",
    "        atranblue_wvz.append(t)\n",
    "    atranblue.append(atranblue_wvz) \n",
    "    print(altitude, wvz, np.shape(atranblue_wvz))\n",
    "atranblue = np.array(atranblue)\n",
    "\n",
    "# Save data\n",
    "caldir = '/Users/dfadda/sofia/FIFI-LS/FluxCal/'\n",
    "hdu = fits.PrimaryHDU()\n",
    "hdu.header['CHANNEL']='Blue'\n",
    "hdu.header['ORDER']=2\n",
    "hdu1 = addExtension(waveblue,'WAVELENGTH','um',None)\n",
    "hdu2 = addExtension(atranblue,'ATRAN','',None)\n",
    "hdu3 = addExtension(altitudes, 'ALTITUDE','ft', None)\n",
    "hdu4 = addExtension(wvzs, 'WVZ','um','Water vapor zenithal')\n",
    "hdulist = fits.HDUList([hdu, hdu1, hdu2, hdu3, hdu4])\n",
    "hdulist.writeto(caldir+'AtranBlue2.fits',overwrite=True)\n",
    "hdulist.close()"
   ]
  },
  {
   "cell_type": "code",
   "execution_count": 4,
   "metadata": {},
   "outputs": [
    {
     "name": "stdout",
     "output_type": "stream",
     "text": [
      "36000.0 15.0 (25, 26971)\n",
      "36500.0 15.0 (25, 26971)\n",
      "37000.0 15.0 (25, 26971)\n",
      "37500.0 15.0 (25, 26971)\n",
      "38000.0 15.0 (25, 26971)\n",
      "38500.0 15.0 (25, 26971)\n",
      "39000.0 15.0 (25, 26971)\n",
      "39500.0 15.0 (25, 26971)\n",
      "40000.0 15.0 (25, 26971)\n",
      "40500.0 15.0 (25, 26971)\n",
      "41000.0 15.0 (25, 26971)\n",
      "41500.0 15.0 (25, 26971)\n",
      "42000.0 15.0 (25, 26971)\n",
      "42500.0 15.0 (25, 26971)\n",
      "43000.0 15.0 (25, 26971)\n",
      "43500.0 15.0 (25, 26971)\n",
      "44000.0 15.0 (25, 26971)\n"
     ]
    }
   ],
   "source": [
    "from astropy.io import fits\n",
    "from fifipy.atran import getATransRed, addExtension\n",
    "\n",
    "atranred = []\n",
    "for altitude in altitudes:\n",
    "    atranredwvz = []\n",
    "    #print(' ')\n",
    "    #print(altitude, end = \" \")\n",
    "    for wvz in wvzs:\n",
    "        #print('.', end =\" \") \n",
    "        wt,t = getATransRed(altitude,0,wvz,interp=True)\n",
    "        wavered = wt\n",
    "        atranredwvz.append(t)\n",
    "    atranred.append(atranredwvz) \n",
    "    print(altitude, wvz, np.shape(atranblue_wvz))\n",
    "atranred = np.array(atranred)\n",
    "\n",
    "# Save data\n",
    "caldir = '/Users/dfadda/sofia/FIFI-LS/FluxCal/'\n",
    "hdu = fits.PrimaryHDU()\n",
    "hdu.header['CHANNEL']='Red'\n",
    "hdu.header['ORDER']=1\n",
    "hdu1 = addExtension(wavered,'WAVELENGTH','um',None)\n",
    "hdu2 = addExtension(atranred,'ATRAN','',None)\n",
    "hdu3 = addExtension(altitudes, 'ALTITUDE','ft', None)\n",
    "hdu4 = addExtension(wvzs, 'WVZ','um','Water vapor zenithal')\n",
    "hdulist = fits.HDUList([hdu, hdu1, hdu2, hdu3, hdu4])\n",
    "hdulist.writeto(caldir+'AtranRed.fits',overwrite=True)\n",
    "hdulist.close()\n"
   ]
  },
  {
   "cell_type": "code",
   "execution_count": null,
   "metadata": {},
   "outputs": [],
   "source": [
    "from fifipy.spectra import getResolution\n",
    "import numpy as np\n",
    "\n",
    "# B1\n",
    "w1 =  np.arange(67,125,2.5)\n",
    "w2 = list(w1.copy())\n",
    "w2.append(125)\n",
    "w2 = w2[1:]\n",
    "w1 = np.array(w1)\n",
    "w2 = np.array(w2)\n",
    "res = getResolution('B1', np.sqrt(w1*w2))\n",
    "print(res)\n",
    "   \n",
    "    \n",
    "# B2\n",
    "w1 = np.arange(50,75,2.5)\n",
    "w2 = list(w1.copy())\n",
    "w2.append(75)\n",
    "w2 = w2[1:]\n",
    "w1 = np.array(w1)\n",
    "w2 = np.array(w2)\n",
    "res = getResolution('B2', np.sqrt(w1*w2))\n",
    "print(res)\n",
    "\n",
    "# R\n",
    "w1 = np.arange(105,205,5)\n",
    "w2 = list(w1.copy())\n",
    "w2 = list(w2)\n",
    "w2.append(206)\n",
    "w2 = w2[1:]\n",
    "w1 = np.array(w1)\n",
    "w2 = np.array(w2)\n",
    "res = getResolution('R',np.sqrt(w1*w2))"
   ]
  },
  {
   "cell_type": "code",
   "execution_count": null,
   "metadata": {},
   "outputs": [],
   "source": [
    "from astropy.io import fits\n",
    "import numpy as np\n",
    "hdl = fits.open('/Users/dfadda/sofia/FIFI-LS/FluxCal/AtranBlue1.fits.gz')\n",
    "altitudes = hdl['ALTITUDE'].data\n",
    "w = hdl['WAVELENGTH'].data\n",
    "wvs = hdl['WVZ'].data\n",
    "atran = hdl['ATRAN'].data\n",
    "hdl.info()\n",
    "hdl.close()\n",
    "print(altitudes)\n",
    "print(wvs)\n",
    "print(np.shape(w))\n",
    "atran = np.array(atran)\n",
    "print(np.shape(atran))"
   ]
  },
  {
   "cell_type": "markdown",
   "metadata": {},
   "source": [
    "# New method"
   ]
  },
  {
   "cell_type": "code",
   "execution_count": 2,
   "metadata": {},
   "outputs": [
    {
     "name": "stdout",
     "output_type": "stream",
     "text": [
      "altitudes  [36000.0, 36500.0, 37000.0, 37500.0, 38000.0, 38500.0, 39000.0, 39500.0, 40000.0, 40500.0, 41000.0, 41500.0, 42000.0, 42500.0, 43000.0, 43500.0, 44000.0, 45000.0]\n",
      "water vapor zenithal  [ 1.2         1.3722358   1.56919258  1.79441854  2.05197114  2.34649022\n",
      "  2.68328157  3.06841254  3.50882129  4.01244183  4.58834695  5.24691163\n",
      "  6.          6.86117902  7.84596292  8.97209269 10.25985568 11.73245108\n",
      " 13.41640786 15.34206269 17.54410643 20.06220915 22.94173474 26.23455817\n",
      " 30.        ]\n"
     ]
    }
   ],
   "source": [
    "import numpy as np\n",
    "#altitudes = 36000+np.arange(19)*500.\n",
    "altitudes = [36000. ,36500., 37000., 37500., 38000., 38500., 39000., 39500., 40000., 40500.,\n",
    "     41000. ,41500., 42000., 42500., 43000., 43500., 44000. ,45000.]\n",
    "#wvzs = 1.5 + np.arange(35)*0.25\n",
    "#wvzs = np.append(wvzs, 11.+np.arange(5))\n",
    "wvzs = 1.2 * (30/1.2)**(np.arange(25)/24.)\n",
    "print ('altitudes ', altitudes)\n",
    "print ('water vapor zenithal ', wvzs)\n"
   ]
  },
  {
   "cell_type": "code",
   "execution_count": 8,
   "metadata": {},
   "outputs": [
    {
     "name": "stdout",
     "output_type": "stream",
     "text": [
      "36000.0 . . . . . . . . . . . . . . . . . . . . . . . . . 36000.0 30.0 (25, 1309)\n",
      "36500.0 . . . . . . . . . . . . . . . . . . . . . . . . . 36500.0 30.0 (25, 1309)\n",
      "37000.0 . . . . . . . . . . . . . . . . . . . . . . . . . 37000.0 30.0 (25, 1309)\n",
      "37500.0 . . . . . . . . . . . . . . . . . . . . . . . . . 37500.0 30.0 (25, 1309)\n",
      "38000.0 . . . . . . . . . . . . . . . . . . . . . . . . . 38000.0 30.0 (25, 1309)\n",
      "38500.0 . . . . . . . . . . . . . . . . . . . . . . . . . 38500.0 30.0 (25, 1309)\n",
      "39000.0 . . . . . . . . . . . . . . . . . . . . . . . . . 39000.0 30.0 (25, 1309)\n",
      "39500.0 . . . . . . . . . . . . . . . . . . . . . . . . . 39500.0 30.0 (25, 1309)\n",
      "40000.0 . . . . . . . . . . . . . . . . . . . . . . . . . 40000.0 30.0 (25, 1309)\n",
      "40500.0 . . . . . . . . . . . . . . . . . . . . . . . . . 40500.0 30.0 (25, 1309)\n",
      "41000.0 . . . . . . . . . . . . . . . . . . . . . . . . . 41000.0 30.0 (25, 1309)\n",
      "41500.0 . . . . . . . . . . . . . . . . . . . . . . . . . 41500.0 30.0 (25, 1309)\n",
      "42000.0 . . . . . . . . . . . . . . . . . . . . . . . . . 42000.0 30.0 (25, 1309)\n",
      "42500.0 . . . . . . . . . . . . . . . . . . . . . . . . . 42500.0 30.0 (25, 1309)\n",
      "43000.0 . . . . . . . . . . . . . . . . . . . . . . . . . 43000.0 30.0 (25, 1309)\n",
      "43500.0 . . . . . . . . . . . . . . . . . . . . . . . . . 43500.0 30.0 (25, 1309)\n",
      "44000.0 . . . . . . . . . . . . . . . . . . . . . . . . . 44000.0 30.0 (25, 1309)\n",
      "45000.0 . . . . . . . . . . . . . . . . . . . . . . . . . 45000.0 30.0 (25, 1309)\n",
      "(18, 25, 1309)\n"
     ]
    }
   ],
   "source": [
    "from astropy.io import fits\n",
    "from fifipy.atran import getATransBand, addExtension\n",
    "\n",
    "atranblue = []\n",
    "for altitude in altitudes:\n",
    "    atranblue_wvz = []\n",
    "    print(altitude, end = \" \")\n",
    "    for wvz in wvzs:\n",
    "        print('.', end =\" \") \n",
    "        wt,t = getATransBand('B1',altitude,0,wvz)\n",
    "        waveblue = wt\n",
    "        atranblue_wvz.append(t)\n",
    "    print(altitude, wvz, np.shape(atranblue_wvz))\n",
    "    atranblue.append(atranblue_wvz) \n",
    "atranblue = np.array(atranblue)\n",
    "print(np.shape(atranblue))\n",
    "# Save data\n",
    "\n",
    "caldir = '/home/dario/Python/fifipy/fifipy/data/'\n",
    "hdu = fits.PrimaryHDU()\n",
    "hdu.header['CHANNEL']='Blue'\n",
    "hdu.header['ORDER']=1\n",
    "hdu1 = addExtension(waveblue,'WAVELENGTH','um',None)\n",
    "hdu2 = addExtension(atranblue,'ATRAN','',None)\n",
    "hdu3 = addExtension(altitudes, 'ALTITUDE','ft', None)\n",
    "hdu4 = addExtension(wvzs, 'WVZ','um','Water vapor zenithal')\n",
    "hdulist = fits.HDUList([hdu, hdu1, hdu2, hdu3, hdu4])\n",
    "hdulist.writeto(caldir+'AtranBlue1.fits',overwrite=True)\n",
    "hdulist.close()"
   ]
  },
  {
   "cell_type": "code",
   "execution_count": 6,
   "metadata": {},
   "outputs": [
    {
     "name": "stdout",
     "output_type": "stream",
     "text": [
      "36000.0 . . . . . . . . . . . . . . . . . . . . . . . . . 36000.0 30.0 (25, 1619)\n",
      "36500.0 . . . . . . . . . . . . . . . . . . . . . . . . . 36500.0 30.0 (25, 1619)\n",
      "37000.0 . . . . . . . . . . . . . . . . . . . . . . . . . 37000.0 30.0 (25, 1619)\n",
      "37500.0 . . . . . . . . . . . . . . . . . . . . . . . . . 37500.0 30.0 (25, 1619)\n",
      "38000.0 . . . . . . . . . . . . . . . . . . . . . . . . . 38000.0 30.0 (25, 1619)\n",
      "38500.0 . . . . . . . . . . . . . . . . . . . . . . . . . 38500.0 30.0 (25, 1619)\n",
      "39000.0 . . . . . . . . . . . . . . . . . . . . . . . . . 39000.0 30.0 (25, 1619)\n",
      "39500.0 . . . . . . . . . . . . . . . . . . . . . . . . . 39500.0 30.0 (25, 1619)\n",
      "40000.0 . . . . . . . . . . . . . . . . . . . . . . . . . 40000.0 30.0 (25, 1619)\n",
      "40500.0 . . . . . . . . . . . . . . . . . . . . . . . . . 40500.0 30.0 (25, 1619)\n",
      "41000.0 . . . . . . . . . . . . . . . . . . . . . . . . . 41000.0 30.0 (25, 1619)\n",
      "41500.0 . . . . . . . . . . . . . . . . . . . . . . . . . 41500.0 30.0 (25, 1619)\n",
      "42000.0 . . . . . . . . . . . . . . . . . . . . . . . . . 42000.0 30.0 (25, 1619)\n",
      "42500.0 . . . . . . . . . . . . . . . . . . . . . . . . . 42500.0 30.0 (25, 1619)\n",
      "43000.0 . . . . . . . . . . . . . . . . . . . . . . . . . 43000.0 30.0 (25, 1619)\n",
      "43500.0 . . . . . . . . . . . . . . . . . . . . . . . . . 43500.0 30.0 (25, 1619)\n",
      "44000.0 . . . . . . . . . . . . . . . . . . . . . . . . . 44000.0 30.0 (25, 1619)\n",
      "45000.0 . . . . . . . . . . . . . . . . . . . . . . . . . 45000.0 30.0 (25, 1619)\n"
     ]
    }
   ],
   "source": [
    "from astropy.io import fits\n",
    "from fifipy.atran import getATransBand, addExtension\n",
    "\n",
    "atranblue = []\n",
    "for altitude in altitudes:\n",
    "    atranblue_wvz = []\n",
    "    print(altitude, end = \" \")\n",
    "    for wvz in wvzs:\n",
    "        print('.', end =\" \") \n",
    "        wt,t = getATransBand('B2', altitude,0,wvz)\n",
    "        waveblue = wt\n",
    "        atranblue_wvz.append(t)\n",
    "    atranblue.append(atranblue_wvz) \n",
    "    print(altitude, wvz, np.shape(atranblue_wvz))\n",
    "atranblue = np.array(atranblue)\n",
    "\n",
    "# Save data\n",
    "caldir = '/home/dario/Python/fifipy/fifipy/data/'\n",
    "hdu = fits.PrimaryHDU()\n",
    "hdu.header['CHANNEL']='Blue'\n",
    "hdu.header['ORDER']=2\n",
    "hdu1 = addExtension(waveblue,'WAVELENGTH','um',None)\n",
    "hdu2 = addExtension(atranblue,'ATRAN','',None)\n",
    "hdu3 = addExtension(altitudes, 'ALTITUDE','ft', None)\n",
    "hdu4 = addExtension(wvzs, 'WVZ','um','Water vapor zenithal')\n",
    "hdulist = fits.HDUList([hdu, hdu1, hdu2, hdu3, hdu4])\n",
    "hdulist.writeto(caldir+'AtranBlue2.fits',overwrite=True)\n",
    "hdulist.close()"
   ]
  },
  {
   "cell_type": "code",
   "execution_count": 8,
   "metadata": {},
   "outputs": [
    {
     "name": "stdout",
     "output_type": "stream",
     "text": [
      "36000.0 . . . . . . . . . . . . . . . . . . . . . . . . . 36000.0 30.0 (25, 2206)\n",
      "36500.0 . . . . . . . . . . . . . . . . . . . . . . . . . 36500.0 30.0 (25, 2206)\n",
      "37000.0 . . . . . . . . . . . . . . . . . . . . . . . . . 37000.0 30.0 (25, 2206)\n",
      "37500.0 . . . . . . . . . . . . . . . . . . . . . . . . . 37500.0 30.0 (25, 2206)\n",
      "38000.0 . . . . . . . . . . . . . . . . . . . . . . . . . 38000.0 30.0 (25, 2206)\n",
      "38500.0 . . . . . . . . . . . . . . . . . . . . . . . . . 38500.0 30.0 (25, 2206)\n",
      "39000.0 . . . . . . . . . . . . . . . . . . . . . . . . . 39000.0 30.0 (25, 2206)\n",
      "39500.0 . . . . . . . . . . . . . . . . . . . . . . . . . 39500.0 30.0 (25, 2206)\n",
      "40000.0 . . . . . . . . . . . . . . . . . . . . . . . . . 40000.0 30.0 (25, 2206)\n",
      "40500.0 . . . . . . . . . . . . . . . . . . . . . . . . . 40500.0 30.0 (25, 2206)\n",
      "41000.0 . . . . . . . . . . . . . . . . . . . . . . . . . 41000.0 30.0 (25, 2206)\n",
      "41500.0 . . . . . . . . . . . . . . . . . . . . . . . . . 41500.0 30.0 (25, 2206)\n",
      "42000.0 . . . . . . . . . . . . . . . . . . . . . . . . . 42000.0 30.0 (25, 2206)\n",
      "42500.0 . . . . . . . . . . . . . . . . . . . . . . . . . 42500.0 30.0 (25, 2206)\n",
      "43000.0 . . . . . . . . . . . . . . . . . . . . . . . . . 43000.0 30.0 (25, 2206)\n",
      "43500.0 . . . . . . . . . . . . . . . . . . . . . . . . . 43500.0 30.0 (25, 2206)\n",
      "44000.0 . . . . . . . . . . . . . . . . . . . . . . . . . 44000.0 30.0 (25, 2206)\n",
      "45000.0 . . . . . . . . . . . . . . . . . . . . . . . . . 45000.0 30.0 (25, 2206)\n"
     ]
    }
   ],
   "source": [
    "from astropy.io import fits\n",
    "from fifipy.atran import getATransBand, addExtension\n",
    "\n",
    "atranred = []\n",
    "for altitude in altitudes:\n",
    "    atranredwvz = []\n",
    "    print(altitude, end = \" \")\n",
    "    for wvz in wvzs:\n",
    "        print('.', end =\" \") \n",
    "        wt,t = getATransBand('R',altitude,0,wvz)\n",
    "        wavered = wt\n",
    "        atranredwvz.append(t)\n",
    "    atranred.append(atranredwvz) \n",
    "    print(altitude, wvz, np.shape(atranredwvz))\n",
    "atranred = np.array(atranred)\n",
    "\n",
    "# Save data\n",
    "caldir = '/home/dario/Python/fifipy/fifipy/data/'\n",
    "hdu = fits.PrimaryHDU()\n",
    "hdu.header['CHANNEL']='Red'\n",
    "hdu.header['ORDER']=1\n",
    "hdu1 = addExtension(wavered,'WAVELENGTH','um',None)\n",
    "hdu2 = addExtension(atranred,'ATRAN','',None)\n",
    "hdu3 = addExtension(altitudes, 'ALTITUDE','ft', None)\n",
    "hdu4 = addExtension(wvzs, 'WVZ','um','Water vapor zenithal')\n",
    "hdulist = fits.HDUList([hdu, hdu1, hdu2, hdu3, hdu4])\n",
    "hdulist.writeto(caldir+'AtranRed.fits',overwrite=True)\n",
    "hdulist.close()\n"
   ]
  },
  {
   "cell_type": "code",
   "execution_count": 9,
   "metadata": {},
   "outputs": [],
   "source": [
    "altitude = 39000\n",
    "wvz = 5\n",
    "wt,t = getATransBand('R',altitude,0,wvz)"
   ]
  },
  {
   "cell_type": "code",
   "execution_count": 12,
   "metadata": {},
   "outputs": [
    {
     "data": {
      "text/plain": [
       "(146, 148.5)"
      ]
     },
     "execution_count": 12,
     "metadata": {},
     "output_type": "execute_result"
    },
    {
     "data": {
      "image/png": "[encoded data removed]",
      "text/plain": [
       "<Figure size 432x288 with 1 Axes>"
      ]
     },
     "metadata": {
      "needs_background": "light"
     },
     "output_type": "display_data"
    }
   ],
   "source": [
    "import matplotlib.pyplot as plt\n",
    "%matplotlib inline\n",
    "plt.plot(wt,t)\n",
    "plt.xlim([146,148.5])"
   ]
  },
  {
   "cell_type": "code",
   "execution_count": 40,
   "metadata": {},
   "outputs": [
    {
     "name": "stdout",
     "output_type": "stream",
     "text": [
      "region  [73.19, 73.235]\n",
      "region  [91.82, 91.925]\n",
      "region  [120.5, 120.75]\n",
      "region  [123.85, 124.1]\n",
      "region  [147.4, 147.65]\n",
      "region  [155.4, 155.75]\n",
      "region  [160.68, 160.8]\n",
      "region  [170.28, 170.6]\n",
      "region  [176.42, 176.7]\n"
     ]
    }
   ],
   "source": [
    "from fifipy.atran import callAtran\n",
    "from scipy.interpolate import interp1d\n",
    "i,wave,trans = callAtran(0,39000,0,5.,146,148.5,0)\n",
    "trans0 = trans.copy()\n",
    "mask = np.zeros(np.size(wave), dtype=bool)\n",
    "regions = [\n",
    "            [73.19,73.235],\n",
    "            [91.82,91.925],\n",
    "            [120.50,120.75],\n",
    "            [123.85,124.10],\n",
    "            [147.4,147.65],\n",
    "            [155.4,155.75],\n",
    "            [160.68,160.8],\n",
    "            [170.28,170.6],\n",
    "            [176.42,176.7],\n",
    "            ]   \n",
    "for r in regions:\n",
    "    try:\n",
    "        print('region ', r)\n",
    "        mask[:] = False\n",
    "        m = (wave > r[0]) & (wave < r[1])\n",
    "        mask[m] = True\n",
    "        model = interp1d(wave[~mask],trans[~mask],kind='cubic',fill_value='extrapolate')\n",
    "        trans[m] = model(wave[m])\n",
    "    except:\n",
    "        print('Does not apply')\n",
    "        pass\n"
   ]
  },
  {
   "cell_type": "code",
   "execution_count": 61,
   "metadata": {},
   "outputs": [
    {
     "name": "stdout",
     "output_type": "stream",
     "text": [
      "403 403\n"
     ]
    },
    {
     "data": {
      "image/png": "[encoded data removed]",
      "text/plain": [
       "<Figure size 432x288 with 1 Axes>"
      ]
     },
     "metadata": {
      "needs_background": "light"
     },
     "output_type": "display_data"
    }
   ],
   "source": [
    "# center 146.92\n",
    "plt.plot(wave, trans)\n",
    "#plt.plot(wave,trans)\n",
    "plt.plot(wt,t)\n",
    "\n",
    "idx1 = (wave < 146.92) & ( wave > 146.92-0.9)\n",
    "idx2 = (wave > 146.92) & ( wave < 146.92+0.912)\n",
    "\n",
    "print(np.sum(idx1), np.sum(idx2))\n",
    "trans2 = trans.copy()\n",
    "trans2[idx2]=trans2[idx1[::-1]]\n",
    "plt.plot(trans2)\n",
    "plt.xlim([146.2,147.9])\n",
    "plt.grid()"
   ]
  },
  {
   "cell_type": "code",
   "execution_count": 98,
   "metadata": {},
   "outputs": [
    {
     "data": {
      "image/png": "[encoded data removed]",
      "text/plain": [
       "<Figure size 432x288 with 1 Axes>"
      ]
     },
     "metadata": {
      "needs_background": "light"
     },
     "output_type": "display_data"
    }
   ],
   "source": [
    "#idx = np.where((wave > 146.919) & (wave < 146.921))\n",
    "id0 = int(np.argmin(np.abs(wave- 146.92)))\n",
    "\n",
    "plt.plot(wave, trans0)\n",
    "\n",
    "plt.plot(wave[id0:id0+360], trans[id0-360:id0][::-1])\n",
    "plt.xlim([147.65,147.75])\n",
    "plt.grid()"
   ]
  },
  {
   "cell_type": "code",
   "execution_count": 99,
   "metadata": {},
   "outputs": [],
   "source": [
    "lines = [\n",
    "            [147.225, 147.375],\n",
    "            [147.66, 147.74]\n",
    "            ]\n",
    "linefit = []\n",
    "mls = []\n",
    "for l in lines:\n",
    "    mask[:] = 0\n",
    "    ml = (wave > l[0]) & (wave < l[1])\n",
    "    mask[ml] = True\n",
    "    model = interp1d(wave[~mask],trans[~mask],kind='linear',fill_value='extrapolate')\n",
    "    line = trans[ml] - model(wave[ml])\n",
    "    trans[ml] -= line\n",
    "    linefit.append(line)\n",
    "    mls.append(ml)\n",
    "id0 = int(np.argmin(np.abs(wave- 146.92)))\n",
    "trans[id0:id0+360] = trans[id0-360:id0][::-1]\n",
    "# Add back lines\n",
    "for line, ml in zip(linefit, mls):\n",
    "    trans[ml] += line\n"
   ]
  },
  {
   "cell_type": "code",
   "execution_count": 101,
   "metadata": {},
   "outputs": [
    {
     "data": {
      "image/png": "[encoded data removed]",
      "text/plain": [
       "<Figure size 432x288 with 1 Axes>"
      ]
     },
     "metadata": {
      "needs_background": "light"
     },
     "output_type": "display_data"
    }
   ],
   "source": [
    "plt.plot(wave, trans0)\n",
    "plt.plot(wave, trans)\n",
    "plt.xlim([146.5,148])\n",
    "plt.grid()"
   ]
  },
  {
   "cell_type": "markdown",
   "metadata": {},
   "source": [
    "# Black body"
   ]
  },
  {
   "cell_type": "code",
   "execution_count": 7,
   "metadata": {},
   "outputs": [
    {
     "data": {
      "text/plain": [
       "[<matplotlib.lines.Line2D at 0x7f25167c3e10>]"
      ]
     },
     "execution_count": 7,
     "metadata": {},
     "output_type": "execute_result"
    },
    {
     "data": {
      "image/png": "[encoded data removed]",
      "text/plain": [
       "<Figure size 432x288 with 1 Axes>"
      ]
     },
     "metadata": {
      "needs_background": "light"
     },
     "output_type": "display_data"
    }
   ],
   "source": [
    "import numpy as np\n",
    "from astropy import units as u\n",
    "from astropy.modeling.blackbody import blackbody_lambda, blackbody_nu\n",
    "\n",
    "#Calculate blackbody flux for 5000 K at 100 and 10000 Angstrom while suppressing\n",
    "#any Numpy warnings:\n",
    "\n",
    "wavelengths = np.arange(10, 200,1) * u.micron\n",
    "temperature = 50 * u.K\n",
    "with np.errstate(all='ignore'):\n",
    "     flux_lam = blackbody_lambda(wavelengths, temperature)\n",
    "     flux_nu = blackbody_nu(wavelengths, temperature)\n",
    "\n",
    "%matplotlib inline\n",
    "import matplotlib.pyplot as plt\n",
    "\n",
    "plt.plot(wavelengths, flux_nu)\n",
    "    \n",
    "    \n",
    "    "
   ]
  },
  {
   "cell_type": "code",
   "execution_count": null,
   "metadata": {},
   "outputs": [],
   "source": []
  }
 ],
 "metadata": {
  "kernelspec": {
   "display_name": "Python 3",
   "language": "python",
   "name": "python3"
  },
  "language_info": {
   "codemirror_mode": {
    "name": "ipython",
    "version": 3
   },
   "file_extension": ".py",
   "mimetype": "text/x-python",
   "name": "python",
   "nbconvert_exporter": "python",
   "pygments_lexer": "ipython3",
   "version": "3.7.4"
  }
 },
 "nbformat": 4,
 "nbformat_minor": 4
}
