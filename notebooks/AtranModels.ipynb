{
 "cells": [
  {
   "cell_type": "markdown",
   "metadata": {},
   "source": [
    "# ATRAN models pre-computed for FIFI-LS"
   ]
  },
  {
   "cell_type": "code",
   "execution_count": 1,
   "metadata": {},
   "outputs": [
    {
     "name": "stdout",
     "output_type": "stream",
     "text": [
      "altitudes  [36000. 36500. 37000. 37500. 38000. 38500. 39000. 39500. 40000. 40500.\n",
      " 41000. 41500. 42000. 42500. 43000. 43500. 44000.]\n",
      "water vapor zenithal  [ 1.5         1.65104126  1.81729149  2.00028215  2.2016989   2.42339715\n",
      "  2.66741912  2.93601267  3.23165204  3.55706056  3.91523582  4.30947725\n",
      "  4.74341649  5.22105088  5.74678027  6.32544755  6.96238325  7.66345466\n",
      "  8.43511988  9.28448728 10.21938104 11.24841314 12.38106278 13.62776363\n",
      " 15.        ]\n"
     ]
    }
   ],
   "source": [
    "import numpy as np\n",
    "altitudes = 36000+np.arange(17)*500.\n",
    "#wvzs = 1.5 + np.arange(35)*0.25\n",
    "#wvzs = np.append(wvzs, 11.+np.arange(5))\n",
    "wvzs = 1.5 * (15/1.5)**(np.arange(25)/24.)\n",
    "print ('altitudes ', altitudes)\n",
    "print ('water vapor zenithal ', wvzs)\n",
    "\n"
   ]
  },
  {
   "cell_type": "code",
   "execution_count": 2,
   "metadata": {},
   "outputs": [
    {
     "name": "stdout",
     "output_type": "stream",
     "text": [
      "36000.0 15.0 (25, 21817)\n",
      "36500.0 15.0 (25, 21817)\n",
      "37000.0 15.0 (25, 21817)\n",
      "37500.0 15.0 (25, 21817)\n",
      "38000.0 15.0 (25, 21817)\n",
      "38500.0 15.0 (25, 21817)\n",
      "39000.0 15.0 (25, 21817)\n",
      "39500.0 15.0 (25, 21817)\n",
      "40000.0 15.0 (25, 21817)\n",
      "40500.0 15.0 (25, 21817)\n",
      "41000.0 15.0 (25, 21817)\n",
      "41500.0 15.0 (25, 21817)\n",
      "42000.0 15.0 (25, 21817)\n",
      "42500.0 15.0 (25, 21817)\n",
      "43000.0 15.0 (25, 21817)\n",
      "43500.0 15.0 (25, 21817)\n",
      "44000.0 15.0 (25, 21817)\n",
      "(17, 25, 21817)\n"
     ]
    }
   ],
   "source": [
    "from astropy.io import fits\n",
    "from fifipy.atran import getATransBlue1, addExtension\n",
    "\n",
    "atranblue = []\n",
    "for altitude in altitudes:\n",
    "    atranblue_wvz = []\n",
    "    #print( ' ')\n",
    "    #print(altitude, end = \" \")\n",
    "    for wvz in wvzs:\n",
    "        #print('.', end =\" \") \n",
    "        wt,t = getATransBlue1(altitude,0,wvz,interp=True)\n",
    "        #print(altitude, wvz, len(t))\n",
    "        waveblue = wt\n",
    "        atranblue_wvz.append(t)\n",
    "    print(altitude, wvz, np.shape(atranblue_wvz))\n",
    "    atranblue.append(atranblue_wvz) \n",
    "atranblue = np.array(atranblue)\n",
    "print(np.shape(atranblue))\n",
    "# Save data\n",
    "\n",
    "caldir = '/Users/dfadda/sofia/FIFI-LS/FluxCal/'\n",
    "hdu = fits.PrimaryHDU()\n",
    "hdu.header['CHANNEL']='Blue'\n",
    "hdu.header['ORDER']=1\n",
    "hdu1 = addExtension(waveblue,'WAVELENGTH','um',None)\n",
    "hdu2 = addExtension(atranblue,'ATRAN','',None)\n",
    "hdu3 = addExtension(altitudes, 'ALTITUDE','ft', None)\n",
    "hdu4 = addExtension(wvzs, 'WVZ','um','Water vapor zenithal')\n",
    "hdulist = fits.HDUList([hdu, hdu1, hdu2, hdu3, hdu4])\n",
    "hdulist.writeto(caldir+'AtranBlue1.fits',overwrite=True)\n",
    "hdulist.close()"
   ]
  },
  {
   "cell_type": "code",
   "execution_count": 3,
   "metadata": {},
   "outputs": [
    {
     "name": "stdout",
     "output_type": "stream",
     "text": [
      "36000.0 15.0 (25, 26971)\n",
      "36500.0 15.0 (25, 26971)\n",
      "37000.0 15.0 (25, 26971)\n",
      "37500.0 15.0 (25, 26971)\n",
      "38000.0 15.0 (25, 26971)\n",
      "38500.0 15.0 (25, 26971)\n",
      "39000.0 15.0 (25, 26971)\n",
      "39500.0 15.0 (25, 26971)\n",
      "40000.0 15.0 (25, 26971)\n",
      "40500.0 15.0 (25, 26971)\n",
      "41000.0 15.0 (25, 26971)\n",
      "41500.0 15.0 (25, 26971)\n",
      "42000.0 15.0 (25, 26971)\n",
      "42500.0 15.0 (25, 26971)\n",
      "43000.0 15.0 (25, 26971)\n",
      "43500.0 15.0 (25, 26971)\n",
      "44000.0 15.0 (25, 26971)\n"
     ]
    }
   ],
   "source": [
    "from astropy.io import fits\n",
    "from fifipy.atran import getATransBlue2, addExtension\n",
    "\n",
    "atranblue = []\n",
    "for altitude in altitudes:\n",
    "    atranblue_wvz = []\n",
    "    #print( ' ')\n",
    "    #print(altitude, end = \" \")\n",
    "    for wvz in wvzs:\n",
    "        #print('.', end =\" \") \n",
    "        wt,t = getATransBlue2(altitude,0,wvz,interp=True)\n",
    "        waveblue = wt\n",
    "        atranblue_wvz.append(t)\n",
    "    atranblue.append(atranblue_wvz) \n",
    "    print(altitude, wvz, np.shape(atranblue_wvz))\n",
    "atranblue = np.array(atranblue)\n",
    "\n",
    "# Save data\n",
    "caldir = '/Users/dfadda/sofia/FIFI-LS/FluxCal/'\n",
    "hdu = fits.PrimaryHDU()\n",
    "hdu.header['CHANNEL']='Blue'\n",
    "hdu.header['ORDER']=2\n",
    "hdu1 = addExtension(waveblue,'WAVELENGTH','um',None)\n",
    "hdu2 = addExtension(atranblue,'ATRAN','',None)\n",
    "hdu3 = addExtension(altitudes, 'ALTITUDE','ft', None)\n",
    "hdu4 = addExtension(wvzs, 'WVZ','um','Water vapor zenithal')\n",
    "hdulist = fits.HDUList([hdu, hdu1, hdu2, hdu3, hdu4])\n",
    "hdulist.writeto(caldir+'AtranBlue2.fits',overwrite=True)\n",
    "hdulist.close()"
   ]
  },
  {
   "cell_type": "code",
   "execution_count": 4,
   "metadata": {},
   "outputs": [
    {
     "name": "stdout",
     "output_type": "stream",
     "text": [
      "36000.0 15.0 (25, 26971)\n",
      "36500.0 15.0 (25, 26971)\n",
      "37000.0 15.0 (25, 26971)\n",
      "37500.0 15.0 (25, 26971)\n",
      "38000.0 15.0 (25, 26971)\n",
      "38500.0 15.0 (25, 26971)\n",
      "39000.0 15.0 (25, 26971)\n",
      "39500.0 15.0 (25, 26971)\n",
      "40000.0 15.0 (25, 26971)\n",
      "40500.0 15.0 (25, 26971)\n",
      "41000.0 15.0 (25, 26971)\n",
      "41500.0 15.0 (25, 26971)\n",
      "42000.0 15.0 (25, 26971)\n",
      "42500.0 15.0 (25, 26971)\n",
      "43000.0 15.0 (25, 26971)\n",
      "43500.0 15.0 (25, 26971)\n",
      "44000.0 15.0 (25, 26971)\n"
     ]
    }
   ],
   "source": [
    "from astropy.io import fits\n",
    "from fifipy.atran import getATransRed, addExtension\n",
    "\n",
    "atranred = []\n",
    "for altitude in altitudes:\n",
    "    atranredwvz = []\n",
    "    #print(' ')\n",
    "    #print(altitude, end = \" \")\n",
    "    for wvz in wvzs:\n",
    "        #print('.', end =\" \") \n",
    "        wt,t = getATransRed(altitude,0,wvz,interp=True)\n",
    "        wavered = wt\n",
    "        atranredwvz.append(t)\n",
    "    atranred.append(atranredwvz) \n",
    "    print(altitude, wvz, np.shape(atranblue_wvz))\n",
    "atranred = np.array(atranred)\n",
    "\n",
    "# Save data\n",
    "caldir = '/Users/dfadda/sofia/FIFI-LS/FluxCal/'\n",
    "hdu = fits.PrimaryHDU()\n",
    "hdu.header['CHANNEL']='Red'\n",
    "hdu.header['ORDER']=1\n",
    "hdu1 = addExtension(wavered,'WAVELENGTH','um',None)\n",
    "hdu2 = addExtension(atranred,'ATRAN','',None)\n",
    "hdu3 = addExtension(altitudes, 'ALTITUDE','ft', None)\n",
    "hdu4 = addExtension(wvzs, 'WVZ','um','Water vapor zenithal')\n",
    "hdulist = fits.HDUList([hdu, hdu1, hdu2, hdu3, hdu4])\n",
    "hdulist.writeto(caldir+'AtranRed.fits',overwrite=True)\n",
    "hdulist.close()\n"
   ]
  },
  {
   "cell_type": "code",
   "execution_count": null,
   "metadata": {},
   "outputs": [],
   "source": [
    "from fifipy.spectra import getResolution\n",
    "import numpy as np\n",
    "\n",
    "# B1\n",
    "w1 =  np.arange(67,125,2.5)\n",
    "w2 = list(w1.copy())\n",
    "w2.append(125)\n",
    "w2 = w2[1:]\n",
    "w1 = np.array(w1)\n",
    "w2 = np.array(w2)\n",
    "res = getResolution('B1', np.sqrt(w1*w2))\n",
    "print(res)\n",
    "   \n",
    "    \n",
    "# B2\n",
    "w1 = np.arange(50,75,2.5)\n",
    "w2 = list(w1.copy())\n",
    "w2.append(75)\n",
    "w2 = w2[1:]\n",
    "w1 = np.array(w1)\n",
    "w2 = np.array(w2)\n",
    "res = getResolution('B2', np.sqrt(w1*w2))\n",
    "print(res)\n",
    "\n",
    "# R\n",
    "w1 = np.arange(105,205,5)\n",
    "w2 = list(w1.copy())\n",
    "w2 = list(w2)\n",
    "w2.append(206)\n",
    "w2 = w2[1:]\n",
    "w1 = np.array(w1)\n",
    "w2 = np.array(w2)\n",
    "res = getResolution('R',np.sqrt(w1*w2))"
   ]
  },
  {
   "cell_type": "code",
   "execution_count": null,
   "metadata": {},
   "outputs": [],
   "source": [
    "from astropy.io import fits\n",
    "import numpy as np\n",
    "hdl = fits.open('/Users/dfadda/sofia/FIFI-LS/FluxCal/AtranBlue1.fits.gz')\n",
    "altitudes = hdl['ALTITUDE'].data\n",
    "w = hdl['WAVELENGTH'].data\n",
    "wvs = hdl['WVZ'].data\n",
    "atran = hdl['ATRAN'].data\n",
    "hdl.info()\n",
    "hdl.close()\n",
    "print(altitudes)\n",
    "print(wvs)\n",
    "print(np.shape(w))\n",
    "atran = np.array(atran)\n",
    "print(np.shape(atran))"
   ]
  },
  {
   "cell_type": "markdown",
   "metadata": {},
   "source": [
    "# New method"
   ]
  },
  {
   "cell_type": "code",
   "execution_count": 4,
   "metadata": {},
   "outputs": [
    {
     "name": "stdout",
     "output_type": "stream",
     "text": [
      "altitudes  [36000.0, 36500.0, 37000.0, 37500.0, 38000.0, 38500.0, 39000.0, 39500.0, 40000.0, 40500.0, 41000.0, 41500.0, 42000.0, 42500.0, 43000.0, 43500.0, 44000.0, 45000.0]\n",
      "water vapor zenithal  [ 1.2         1.3722358   1.56919258  1.79441854  2.05197114  2.34649022\n",
      "  2.68328157  3.06841254  3.50882129  4.01244183  4.58834695  5.24691163\n",
      "  6.          6.86117902  7.84596292  8.97209269 10.25985568 11.73245108\n",
      " 13.41640786 15.34206269 17.54410643 20.06220915 22.94173474 26.23455817\n",
      " 30.        ]\n"
     ]
    }
   ],
   "source": [
    "import numpy as np\n",
    "#altitudes = 36000+np.arange(19)*500.\n",
    "altitudes = [36000. ,36500., 37000., 37500., 38000., 38500., 39000., 39500., 40000., 40500.,\n",
    "     41000. ,41500., 42000., 42500., 43000., 43500., 44000. ,45000.]\n",
    "#wvzs = 1.5 + np.arange(35)*0.25\n",
    "#wvzs = np.append(wvzs, 11.+np.arange(5))\n",
    "wvzs = 1.2 * (30/1.2)**(np.arange(25)/24.)\n",
    "print ('altitudes ', altitudes)\n",
    "print ('water vapor zenithal ', wvzs)\n"
   ]
  },
  {
   "cell_type": "code",
   "execution_count": null,
   "metadata": {},
   "outputs": [
    {
     "name": "stdout",
     "output_type": "stream",
     "text": [
      " \n",
      "36000.0 . . . . . . . . . . . . . . . . . . . . . . . . . 36000.0 30.0 (25, 1097)\n",
      " \n",
      "36500.0 . . . . . . . . . . "
     ]
    }
   ],
   "source": [
    "from astropy.io import fits\n",
    "from fifipy.atran import getATransBand, addExtension\n",
    "\n",
    "atranblue = []\n",
    "for altitude in altitudes:\n",
    "    atranblue_wvz = []\n",
    "    print( ' ')\n",
    "    print(altitude, end = \" \")\n",
    "    for wvz in wvzs:\n",
    "        print('.', end =\" \") \n",
    "        wt,t = getATransBand('B1',altitude,0,wvz)\n",
    "        #print(altitude, wvz, len(t))\n",
    "        waveblue = wt\n",
    "        atranblue_wvz.append(t)\n",
    "    print(altitude, wvz, np.shape(atranblue_wvz))\n",
    "    atranblue.append(atranblue_wvz) \n",
    "atranblue = np.array(atranblue)\n",
    "print(np.shape(atranblue))\n",
    "# Save data\n",
    "\n",
    "caldir = '/Users/dfadda/sofia/FIFI-LS/FluxCal/'\n",
    "hdu = fits.PrimaryHDU()\n",
    "hdu.header['CHANNEL']='Blue'\n",
    "hdu.header['ORDER']=1\n",
    "hdu1 = addExtension(waveblue,'WAVELENGTH','um',None)\n",
    "hdu2 = addExtension(atranblue,'ATRAN','',None)\n",
    "hdu3 = addExtension(altitudes, 'ALTITUDE','ft', None)\n",
    "hdu4 = addExtension(wvzs, 'WVZ','um','Water vapor zenithal')\n",
    "hdulist = fits.HDUList([hdu, hdu1, hdu2, hdu3, hdu4])\n",
    "hdulist.writeto(caldir+'AtranBlue1.fits',overwrite=True)\n",
    "hdulist.close()"
   ]
  },
  {
   "cell_type": "code",
   "execution_count": null,
   "metadata": {},
   "outputs": [],
   "source": [
    "from astropy.io import fits\n",
    "from fifipy.atran import getATransBand, addExtension\n",
    "\n",
    "atranblue = []\n",
    "for altitude in altitudes:\n",
    "    atranblue_wvz = []\n",
    "    #print( ' ')\n",
    "    #print(altitude, end = \" \")\n",
    "    for wvz in wvzs:\n",
    "        #print('.', end =\" \") \n",
    "        wt,t = getATransBand('B2', altitude,0,wvz)\n",
    "        waveblue = wt\n",
    "        atranblue_wvz.append(t)\n",
    "    atranblue.append(atranblue_wvz) \n",
    "    print(altitude, wvz, np.shape(atranblue_wvz))\n",
    "atranblue = np.array(atranblue)\n",
    "\n",
    "# Save data\n",
    "caldir = '/Users/dfadda/sofia/FIFI-LS/FluxCal/'\n",
    "hdu = fits.PrimaryHDU()\n",
    "hdu.header['CHANNEL']='Blue'\n",
    "hdu.header['ORDER']=2\n",
    "hdu1 = addExtension(waveblue,'WAVELENGTH','um',None)\n",
    "hdu2 = addExtension(atranblue,'ATRAN','',None)\n",
    "hdu3 = addExtension(altitudes, 'ALTITUDE','ft', None)\n",
    "hdu4 = addExtension(wvzs, 'WVZ','um','Water vapor zenithal')\n",
    "hdulist = fits.HDUList([hdu, hdu1, hdu2, hdu3, hdu4])\n",
    "hdulist.writeto(caldir+'AtranBlue2.fits',overwrite=True)\n",
    "hdulist.close()"
   ]
  },
  {
   "cell_type": "code",
   "execution_count": null,
   "metadata": {},
   "outputs": [],
   "source": [
    "from astropy.io import fits\n",
    "from fifipy.atran import getATransBand, addExtension\n",
    "\n",
    "atranred = []\n",
    "for altitude in altitudes:\n",
    "    atranredwvz = []\n",
    "    #print(' ')\n",
    "    #print(altitude, end = \" \")\n",
    "    for wvz in wvzs:\n",
    "        #print('.', end =\" \") \n",
    "        wt,t = getATransBand('R',altitude,0,wvz)\n",
    "        wavered = wt\n",
    "        atranredwvz.append(t)\n",
    "    atranred.append(atranredwvz) \n",
    "    print(altitude, wvz, np.shape(atranblue_wvz))\n",
    "atranred = np.array(atranred)\n",
    "\n",
    "# Save data\n",
    "caldir = '/Users/dfadda/sofia/FIFI-LS/FluxCal/'\n",
    "hdu = fits.PrimaryHDU()\n",
    "hdu.header['CHANNEL']='Red'\n",
    "hdu.header['ORDER']=1\n",
    "hdu1 = addExtension(wavered,'WAVELENGTH','um',None)\n",
    "hdu2 = addExtension(atranred,'ATRAN','',None)\n",
    "hdu3 = addExtension(altitudes, 'ALTITUDE','ft', None)\n",
    "hdu4 = addExtension(wvzs, 'WVZ','um','Water vapor zenithal')\n",
    "hdulist = fits.HDUList([hdu, hdu1, hdu2, hdu3, hdu4])\n",
    "hdulist.writeto(caldir+'AtranRed.fits',overwrite=True)\n",
    "hdulist.close()\n"
   ]
  }
 ],
 "metadata": {
  "kernelspec": {
   "display_name": "Python 3",
   "language": "python",
   "name": "python3"
  },
  "language_info": {
   "codemirror_mode": {
    "name": "ipython",
    "version": 3
   },
   "file_extension": ".py",
   "mimetype": "text/x-python",
   "name": "python",
   "nbconvert_exporter": "python",
   "pygments_lexer": "ipython3",
   "version": "3.7.5"
  }
 },
 "nbformat": 4,
 "nbformat_minor": 2
}
